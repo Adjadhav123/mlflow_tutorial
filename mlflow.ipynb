{
 "cells": [
  {
   "cell_type": "code",
   "execution_count": 5,
   "id": "5191eb7b",
   "metadata": {},
   "outputs": [],
   "source": [
    "import pandas as pd \n",
    "import numpy as np \n",
    "import seaborn as sns \n",
    "from sklearn.datasets import make_classification\n"
   ]
  },
  {
   "cell_type": "code",
   "execution_count": 8,
   "id": "aaae1110",
   "metadata": {},
   "outputs": [
    {
     "data": {
      "text/plain": [
       "(array([0, 1]), array([896, 104], dtype=int64))"
      ]
     },
     "execution_count": 8,
     "metadata": {},
     "output_type": "execute_result"
    }
   ],
   "source": [
    "X,y=make_classification(n_samples=1000,n_features=20,n_informative=2,n_redundant=8,weights=[0.9,0.1],flip_y=0.01,random_state=42)\n",
    "\n",
    "np.unique(y,return_counts=True)"
   ]
  },
  {
   "cell_type": "code",
   "execution_count": 10,
   "id": "78046656",
   "metadata": {},
   "outputs": [],
   "source": [
    "from sklearn.model_selection import train_test_split \n",
    "x_train,x_test,y_train,y_test=train_test_split(X,y,test_size=0.2,random_state=42)"
   ]
  },
  {
   "cell_type": "code",
   "execution_count": 12,
   "id": "8b6568e9",
   "metadata": {},
   "outputs": [
    {
     "name": "stdout",
     "output_type": "stream",
     "text": [
      "              precision    recall  f1-score   support\n",
      "\n",
      "           0       0.92      0.98      0.95       174\n",
      "           1       0.75      0.46      0.57        26\n",
      "\n",
      "    accuracy                           0.91       200\n",
      "   macro avg       0.84      0.72      0.76       200\n",
      "weighted avg       0.90      0.91      0.90       200\n",
      "\n"
     ]
    }
   ],
   "source": [
    "from sklearn.linear_model import LogisticRegression \n",
    "from sklearn.metrics import accuracy_score,classification_report,confusion_matrix\n",
    "log_reg=LogisticRegression(C=1,solver='liblinear')\n",
    "log_reg.fit(x_train,y_train)\n",
    "y_pred_log=log_reg.predict(x_test)\n",
    "print(classification_report(y_test,y_pred_log))"
   ]
  },
  {
   "cell_type": "code",
   "execution_count": 13,
   "id": "7dc67d27",
   "metadata": {},
   "outputs": [
    {
     "name": "stdout",
     "output_type": "stream",
     "text": [
      "              precision    recall  f1-score   support\n",
      "\n",
      "           0       0.97      0.99      0.98       174\n",
      "           1       0.91      0.77      0.83        26\n",
      "\n",
      "    accuracy                           0.96       200\n",
      "   macro avg       0.94      0.88      0.91       200\n",
      "weighted avg       0.96      0.96      0.96       200\n",
      "\n"
     ]
    }
   ],
   "source": [
    "from sklearn.ensemble import RandomForestClassifier \n",
    "rf_clf=RandomForestClassifier(n_estimators=100,random_state=42)\n",
    "rf_clf.fit(x_train,y_train)\n",
    "y_pred_rf=rf_clf.predict(x_test)\n",
    "print(classification_report(y_test,y_pred_rf))"
   ]
  },
  {
   "cell_type": "code",
   "execution_count": 16,
   "id": "94b52d2b",
   "metadata": {},
   "outputs": [
    {
     "name": "stdout",
     "output_type": "stream",
     "text": [
      "Collecting xgboost\n",
      "  Downloading xgboost-3.0.2-py3-none-win_amd64.whl.metadata (2.1 kB)\n",
      "Requirement already satisfied: numpy in c:\\users\\adity\\.conda\\envs\\genai\\lib\\site-packages (from xgboost) (1.26.4)\n",
      "Requirement already satisfied: scipy in c:\\users\\adity\\.conda\\envs\\genai\\lib\\site-packages (from xgboost) (1.15.2)\n",
      "Downloading xgboost-3.0.2-py3-none-win_amd64.whl (150.0 MB)\n",
      "   ---------------------------------------- 0.0/150.0 MB ? eta -:--:--\n",
      "   ---------------------------------------- 0.3/150.0 MB ? eta -:--:--\n",
      "   ---------------------------------------- 0.8/150.0 MB 2.8 MB/s eta 0:00:54\n",
      "   ---------------------------------------- 1.6/150.0 MB 3.0 MB/s eta 0:00:50\n",
      "    --------------------------------------- 2.4/150.0 MB 3.4 MB/s eta 0:00:44\n",
      "    --------------------------------------- 3.7/150.0 MB 3.9 MB/s eta 0:00:38\n",
      "   - -------------------------------------- 4.7/150.0 MB 4.3 MB/s eta 0:00:35\n",
      "   - -------------------------------------- 5.8/150.0 MB 4.3 MB/s eta 0:00:34\n",
      "   - -------------------------------------- 6.8/150.0 MB 4.4 MB/s eta 0:00:33\n",
      "   -- ------------------------------------- 7.9/150.0 MB 4.5 MB/s eta 0:00:32\n",
      "   -- ------------------------------------- 9.4/150.0 MB 4.8 MB/s eta 0:00:30\n",
      "   -- ------------------------------------- 10.7/150.0 MB 5.0 MB/s eta 0:00:28\n",
      "   --- ------------------------------------ 12.1/150.0 MB 5.1 MB/s eta 0:00:27\n",
      "   --- ------------------------------------ 13.6/150.0 MB 5.3 MB/s eta 0:00:26\n",
      "   --- ------------------------------------ 14.7/150.0 MB 5.3 MB/s eta 0:00:26\n",
      "   ---- ----------------------------------- 16.3/150.0 MB 5.4 MB/s eta 0:00:25\n",
      "   ---- ----------------------------------- 17.6/150.0 MB 5.5 MB/s eta 0:00:25\n",
      "   ----- ---------------------------------- 18.9/150.0 MB 5.5 MB/s eta 0:00:24\n",
      "   ----- ---------------------------------- 20.4/150.0 MB 5.6 MB/s eta 0:00:24\n",
      "   ----- ---------------------------------- 21.5/150.0 MB 5.6 MB/s eta 0:00:23\n",
      "   ------ --------------------------------- 23.1/150.0 MB 5.7 MB/s eta 0:00:23\n",
      "   ------ --------------------------------- 24.6/150.0 MB 5.8 MB/s eta 0:00:22\n",
      "   ------ --------------------------------- 26.0/150.0 MB 5.8 MB/s eta 0:00:22\n",
      "   ------- -------------------------------- 26.7/150.0 MB 5.8 MB/s eta 0:00:22\n",
      "   ------- -------------------------------- 28.0/150.0 MB 5.8 MB/s eta 0:00:22\n",
      "   ------- -------------------------------- 29.4/150.0 MB 5.8 MB/s eta 0:00:21\n",
      "   -------- ------------------------------- 30.7/150.0 MB 5.8 MB/s eta 0:00:21\n",
      "   -------- ------------------------------- 32.2/150.0 MB 5.8 MB/s eta 0:00:21\n",
      "   -------- ------------------------------- 33.6/150.0 MB 5.9 MB/s eta 0:00:20\n",
      "   --------- ------------------------------ 34.6/150.0 MB 5.8 MB/s eta 0:00:20\n",
      "   --------- ------------------------------ 35.7/150.0 MB 5.8 MB/s eta 0:00:20\n",
      "   --------- ------------------------------ 37.0/150.0 MB 5.8 MB/s eta 0:00:20\n",
      "   ---------- ----------------------------- 38.0/150.0 MB 5.8 MB/s eta 0:00:20\n",
      "   ---------- ----------------------------- 39.1/150.0 MB 5.8 MB/s eta 0:00:20\n",
      "   ---------- ----------------------------- 40.1/150.0 MB 5.8 MB/s eta 0:00:20\n",
      "   ----------- ---------------------------- 41.4/150.0 MB 5.8 MB/s eta 0:00:19\n",
      "   ----------- ---------------------------- 42.5/150.0 MB 5.8 MB/s eta 0:00:19\n",
      "   ----------- ---------------------------- 43.8/150.0 MB 5.7 MB/s eta 0:00:19\n",
      "   ----------- ---------------------------- 44.3/150.0 MB 5.7 MB/s eta 0:00:19\n",
      "   ------------ --------------------------- 45.4/150.0 MB 5.7 MB/s eta 0:00:19\n",
      "   ------------ --------------------------- 46.1/150.0 MB 5.6 MB/s eta 0:00:19\n",
      "   ------------ --------------------------- 47.2/150.0 MB 5.6 MB/s eta 0:00:19\n",
      "   ------------- -------------------------- 49.0/150.0 MB 5.6 MB/s eta 0:00:18\n",
      "   ------------- -------------------------- 50.3/150.0 MB 5.7 MB/s eta 0:00:18\n",
      "   ------------- -------------------------- 51.9/150.0 MB 5.7 MB/s eta 0:00:18\n",
      "   -------------- ------------------------- 53.2/150.0 MB 5.7 MB/s eta 0:00:17\n",
      "   -------------- ------------------------- 54.8/150.0 MB 5.7 MB/s eta 0:00:17\n",
      "   --------------- ------------------------ 56.4/150.0 MB 5.8 MB/s eta 0:00:17\n",
      "   --------------- ------------------------ 57.7/150.0 MB 5.8 MB/s eta 0:00:17\n",
      "   --------------- ------------------------ 58.7/150.0 MB 5.8 MB/s eta 0:00:16\n",
      "   ---------------- ----------------------- 60.0/150.0 MB 5.8 MB/s eta 0:00:16\n",
      "   ---------------- ----------------------- 61.6/150.0 MB 5.8 MB/s eta 0:00:16\n",
      "   ---------------- ----------------------- 62.9/150.0 MB 5.8 MB/s eta 0:00:15\n",
      "   ----------------- ---------------------- 64.0/150.0 MB 5.8 MB/s eta 0:00:15\n",
      "   ----------------- ---------------------- 65.3/150.0 MB 5.8 MB/s eta 0:00:15\n",
      "   ----------------- ---------------------- 66.6/150.0 MB 5.8 MB/s eta 0:00:15\n",
      "   ------------------ --------------------- 68.2/150.0 MB 5.8 MB/s eta 0:00:15\n",
      "   ------------------ --------------------- 69.7/150.0 MB 5.9 MB/s eta 0:00:14\n",
      "   ------------------ --------------------- 71.0/150.0 MB 5.9 MB/s eta 0:00:14\n",
      "   ------------------- -------------------- 72.6/150.0 MB 5.9 MB/s eta 0:00:14\n",
      "   ------------------- -------------------- 73.7/150.0 MB 5.9 MB/s eta 0:00:13\n",
      "   -------------------- ------------------- 75.2/150.0 MB 5.9 MB/s eta 0:00:13\n",
      "   -------------------- ------------------- 76.5/150.0 MB 5.9 MB/s eta 0:00:13\n",
      "   -------------------- ------------------- 78.1/150.0 MB 5.9 MB/s eta 0:00:13\n",
      "   --------------------- ------------------ 79.2/150.0 MB 5.9 MB/s eta 0:00:12\n",
      "   --------------------- ------------------ 80.0/150.0 MB 5.9 MB/s eta 0:00:12\n",
      "   --------------------- ------------------ 81.8/150.0 MB 5.9 MB/s eta 0:00:12\n",
      "   ---------------------- ----------------- 83.1/150.0 MB 5.9 MB/s eta 0:00:12\n",
      "   ---------------------- ----------------- 84.4/150.0 MB 5.9 MB/s eta 0:00:12\n",
      "   ---------------------- ----------------- 86.0/150.0 MB 6.0 MB/s eta 0:00:11\n",
      "   ----------------------- ---------------- 87.3/150.0 MB 6.0 MB/s eta 0:00:11\n",
      "   ----------------------- ---------------- 88.9/150.0 MB 6.0 MB/s eta 0:00:11\n",
      "   ------------------------ --------------- 90.2/150.0 MB 6.0 MB/s eta 0:00:10\n",
      "   ------------------------ --------------- 91.8/150.0 MB 6.0 MB/s eta 0:00:10\n",
      "   ------------------------ --------------- 93.3/150.0 MB 6.0 MB/s eta 0:00:10\n",
      "   ------------------------- -------------- 94.6/150.0 MB 6.0 MB/s eta 0:00:10\n",
      "   ------------------------- -------------- 95.9/150.0 MB 6.0 MB/s eta 0:00:09\n",
      "   ------------------------- -------------- 97.3/150.0 MB 6.0 MB/s eta 0:00:09\n",
      "   -------------------------- ------------- 98.8/150.0 MB 6.0 MB/s eta 0:00:09\n",
      "   -------------------------- ------------- 99.9/150.0 MB 6.0 MB/s eta 0:00:09\n",
      "   --------------------------- ------------ 101.4/150.0 MB 6.0 MB/s eta 0:00:09\n",
      "   --------------------------- ------------ 103.0/150.0 MB 6.1 MB/s eta 0:00:08\n",
      "   --------------------------- ------------ 104.1/150.0 MB 6.0 MB/s eta 0:00:08\n",
      "   ---------------------------- ----------- 105.6/150.0 MB 6.0 MB/s eta 0:00:08\n",
      "   ---------------------------- ----------- 106.7/150.0 MB 6.1 MB/s eta 0:00:08\n",
      "   ---------------------------- ----------- 108.3/150.0 MB 6.1 MB/s eta 0:00:07\n",
      "   ----------------------------- ---------- 109.6/150.0 MB 6.1 MB/s eta 0:00:07\n",
      "   ----------------------------- ---------- 110.9/150.0 MB 6.1 MB/s eta 0:00:07\n",
      "   ----------------------------- ---------- 112.2/150.0 MB 6.1 MB/s eta 0:00:07\n",
      "   ------------------------------ --------- 113.5/150.0 MB 6.1 MB/s eta 0:00:07\n",
      "   ------------------------------ --------- 115.1/150.0 MB 6.1 MB/s eta 0:00:06\n",
      "   ------------------------------ --------- 116.1/150.0 MB 6.1 MB/s eta 0:00:06\n",
      "   ------------------------------- -------- 117.7/150.0 MB 6.1 MB/s eta 0:00:06\n",
      "   ------------------------------- -------- 119.0/150.0 MB 6.1 MB/s eta 0:00:06\n",
      "   -------------------------------- ------- 120.3/150.0 MB 6.1 MB/s eta 0:00:05\n",
      "   -------------------------------- ------- 121.6/150.0 MB 6.1 MB/s eta 0:00:05\n",
      "   -------------------------------- ------- 122.7/150.0 MB 6.1 MB/s eta 0:00:05\n",
      "   --------------------------------- ------ 124.0/150.0 MB 6.1 MB/s eta 0:00:05\n",
      "   --------------------------------- ------ 125.6/150.0 MB 6.1 MB/s eta 0:00:05\n",
      "   --------------------------------- ------ 126.9/150.0 MB 6.1 MB/s eta 0:00:04\n",
      "   ---------------------------------- ----- 128.2/150.0 MB 6.1 MB/s eta 0:00:04\n",
      "   ---------------------------------- ----- 129.5/150.0 MB 6.1 MB/s eta 0:00:04\n",
      "   ---------------------------------- ----- 130.8/150.0 MB 6.1 MB/s eta 0:00:04\n",
      "   ----------------------------------- ---- 131.9/150.0 MB 6.1 MB/s eta 0:00:03\n",
      "   ----------------------------------- ---- 133.4/150.0 MB 6.1 MB/s eta 0:00:03\n",
      "   ----------------------------------- ---- 134.7/150.0 MB 6.1 MB/s eta 0:00:03\n",
      "   ------------------------------------ --- 136.3/150.0 MB 6.1 MB/s eta 0:00:03\n",
      "   ------------------------------------ --- 137.6/150.0 MB 6.1 MB/s eta 0:00:03\n",
      "   ------------------------------------- -- 138.9/150.0 MB 6.1 MB/s eta 0:00:02\n",
      "   ------------------------------------- -- 140.2/150.0 MB 6.1 MB/s eta 0:00:02\n",
      "   ------------------------------------- -- 140.8/150.0 MB 6.1 MB/s eta 0:00:02\n",
      "   ------------------------------------- -- 141.8/150.0 MB 6.1 MB/s eta 0:00:02\n",
      "   -------------------------------------- - 142.6/150.0 MB 6.1 MB/s eta 0:00:02\n",
      "   -------------------------------------- - 143.9/150.0 MB 6.1 MB/s eta 0:00:01\n",
      "   -------------------------------------- - 145.0/150.0 MB 6.0 MB/s eta 0:00:01\n",
      "   ---------------------------------------  146.3/150.0 MB 6.0 MB/s eta 0:00:01\n",
      "   ---------------------------------------  147.6/150.0 MB 6.0 MB/s eta 0:00:01\n",
      "   ---------------------------------------  148.4/150.0 MB 6.0 MB/s eta 0:00:01\n",
      "   ---------------------------------------  149.4/150.0 MB 6.0 MB/s eta 0:00:01\n",
      "   ---------------------------------------  149.9/150.0 MB 6.0 MB/s eta 0:00:01\n",
      "   ---------------------------------------  149.9/150.0 MB 6.0 MB/s eta 0:00:01\n",
      "   ---------------------------------------- 150.0/150.0 MB 5.9 MB/s eta 0:00:00\n",
      "Installing collected packages: xgboost\n",
      "Successfully installed xgboost-3.0.2\n"
     ]
    },
    {
     "name": "stderr",
     "output_type": "stream",
     "text": [
      "c:\\Users\\adity\\.conda\\envs\\genai\\lib\\site-packages\\xgboost\\training.py:183: UserWarning: [22:51:37] WARNING: C:\\actions-runner\\_work\\xgboost\\xgboost\\src\\learner.cc:738: \n",
      "Parameters: { \"use_label_encoder\" } are not used.\n",
      "\n",
      "  bst.update(dtrain, iteration=i, fobj=obj)\n"
     ]
    },
    {
     "name": "stdout",
     "output_type": "stream",
     "text": [
      "              precision    recall  f1-score   support\n",
      "\n",
      "           0       0.97      1.00      0.98       174\n",
      "           1       1.00      0.77      0.87        26\n",
      "\n",
      "    accuracy                           0.97       200\n",
      "   macro avg       0.98      0.88      0.93       200\n",
      "weighted avg       0.97      0.97      0.97       200\n",
      "\n"
     ]
    }
   ],
   "source": [
    "!pip install xgboost\n",
    "from xgboost import XGBClassifier \n",
    "xgb_clf=XGBClassifier(use_label_encoder=False,eval_metric='logloss')\n",
    "xgb_clf.fit(x_train,y_train)\n",
    "y_pred_xgb=xgb_clf.predict(x_test)\n",
    "print(classification_report(y_test,y_pred_xgb))\n"
   ]
  },
  {
   "cell_type": "markdown",
   "id": "56ca0e7a",
   "metadata": {},
   "source": [
    "handle the imbalancing using a smoteTomak Technique"
   ]
  },
  {
   "cell_type": "code",
   "execution_count": 19,
   "id": "316f2ca3",
   "metadata": {},
   "outputs": [
    {
     "name": "stdout",
     "output_type": "stream",
     "text": [
      "Requirement already satisfied: imbalanced-learn in c:\\users\\adity\\.conda\\envs\\genai\\lib\\site-packages (0.13.0)\n",
      "Requirement already satisfied: numpy<3,>=1.24.3 in c:\\users\\adity\\.conda\\envs\\genai\\lib\\site-packages (from imbalanced-learn) (1.26.4)\n",
      "Requirement already satisfied: scipy<2,>=1.10.1 in c:\\users\\adity\\.conda\\envs\\genai\\lib\\site-packages (from imbalanced-learn) (1.15.2)\n",
      "Requirement already satisfied: scikit-learn<2,>=1.3.2 in c:\\users\\adity\\.conda\\envs\\genai\\lib\\site-packages (from imbalanced-learn) (1.6.1)\n",
      "Requirement already satisfied: sklearn-compat<1,>=0.1 in c:\\users\\adity\\.conda\\envs\\genai\\lib\\site-packages (from imbalanced-learn) (0.1.3)\n",
      "Requirement already satisfied: joblib<2,>=1.1.1 in c:\\users\\adity\\.conda\\envs\\genai\\lib\\site-packages (from imbalanced-learn) (1.4.2)\n",
      "Requirement already satisfied: threadpoolctl<4,>=2.0.0 in c:\\users\\adity\\.conda\\envs\\genai\\lib\\site-packages (from imbalanced-learn) (3.6.0)\n"
     ]
    }
   ],
   "source": [
    "!pip install imbalanced-learn\n",
    "\n"
   ]
  },
  {
   "cell_type": "code",
   "execution_count": 21,
   "id": "40fe7c4b",
   "metadata": {},
   "outputs": [
    {
     "data": {
      "text/plain": [
       "(array([0, 1]), array([722, 722], dtype=int64))"
      ]
     },
     "execution_count": 21,
     "metadata": {},
     "output_type": "execute_result"
    }
   ],
   "source": [
    "from imblearn.combine import SMOTETomek\n",
    "smote_tomek=SMOTETomek(random_state=42)\n",
    "x_train_res,y_train_res=smote_tomek.fit_resample(x_train,y_train)\n",
    "np.unique(y_train_res,return_counts=True)"
   ]
  },
  {
   "cell_type": "code",
   "execution_count": 22,
   "id": "f8215e28",
   "metadata": {},
   "outputs": [
    {
     "name": "stderr",
     "output_type": "stream",
     "text": [
      "c:\\Users\\adity\\.conda\\envs\\genai\\lib\\site-packages\\xgboost\\training.py:183: UserWarning: [22:56:15] WARNING: C:\\actions-runner\\_work\\xgboost\\xgboost\\src\\learner.cc:738: \n",
      "Parameters: { \"use_label_encoder\" } are not used.\n",
      "\n",
      "  bst.update(dtrain, iteration=i, fobj=obj)\n"
     ]
    },
    {
     "name": "stdout",
     "output_type": "stream",
     "text": [
      "              precision    recall  f1-score   support\n",
      "\n",
      "           0       0.97      0.97      0.97       174\n",
      "           1       0.81      0.81      0.81        26\n",
      "\n",
      "    accuracy                           0.95       200\n",
      "   macro avg       0.89      0.89      0.89       200\n",
      "weighted avg       0.95      0.95      0.95       200\n",
      "\n"
     ]
    }
   ],
   "source": [
    "xgb_clf=XGBClassifier(use_label_encoder=False,eval_metric='logloss')\n",
    "xgb_clf.fit(x_train_res,y_train_res)\n",
    "y_pred_xgb=xgb_clf.predict(x_test)\n",
    "print(classification_report(y_test,y_pred_xgb))\n"
   ]
  },
  {
   "cell_type": "code",
   "execution_count": 24,
   "id": "af85329f",
   "metadata": {},
   "outputs": [
    {
     "name": "stdout",
     "output_type": "stream",
     "text": [
      "Collecting mlflow\n",
      "  Using cached mlflow-3.1.2-py3-none-any.whl.metadata (29 kB)\n",
      "Collecting mlflow-skinny==3.1.2 (from mlflow)\n",
      "  Using cached mlflow_skinny-3.1.2-py3-none-any.whl.metadata (30 kB)\n",
      "Requirement already satisfied: Flask<4 in c:\\users\\adity\\.conda\\envs\\genai\\lib\\site-packages (from mlflow) (3.1.0)\n",
      "Collecting alembic!=1.10.0,<2 (from mlflow)\n",
      "  Downloading alembic-1.16.2-py3-none-any.whl.metadata (7.3 kB)\n",
      "Collecting docker<8,>=4.0.0 (from mlflow)\n",
      "  Using cached docker-7.1.0-py3-none-any.whl.metadata (3.8 kB)\n",
      "Collecting graphene<4 (from mlflow)\n",
      "  Using cached graphene-3.4.3-py2.py3-none-any.whl.metadata (6.9 kB)\n",
      "Requirement already satisfied: matplotlib<4 in c:\\users\\adity\\.conda\\envs\\genai\\lib\\site-packages (from mlflow) (3.10.3)\n",
      "Requirement already satisfied: numpy<3 in c:\\users\\adity\\.conda\\envs\\genai\\lib\\site-packages (from mlflow) (1.26.4)\n",
      "Requirement already satisfied: pandas<3 in c:\\users\\adity\\.conda\\envs\\genai\\lib\\site-packages (from mlflow) (2.2.3)\n",
      "Requirement already satisfied: pyarrow<21,>=4.0.0 in c:\\users\\adity\\.conda\\envs\\genai\\lib\\site-packages (from mlflow) (19.0.1)\n",
      "Requirement already satisfied: scikit-learn<2 in c:\\users\\adity\\.conda\\envs\\genai\\lib\\site-packages (from mlflow) (1.6.1)\n",
      "Requirement already satisfied: scipy<2 in c:\\users\\adity\\.conda\\envs\\genai\\lib\\site-packages (from mlflow) (1.15.2)\n",
      "Requirement already satisfied: sqlalchemy<3,>=1.4.0 in c:\\users\\adity\\.conda\\envs\\genai\\lib\\site-packages (from mlflow) (2.0.40)\n",
      "Collecting waitress<4 (from mlflow)\n",
      "  Using cached waitress-3.0.2-py3-none-any.whl.metadata (5.8 kB)\n",
      "Requirement already satisfied: cachetools<7,>=5.0.0 in c:\\users\\adity\\.conda\\envs\\genai\\lib\\site-packages (from mlflow-skinny==3.1.2->mlflow) (5.5.2)\n",
      "Requirement already satisfied: click<9,>=7.0 in c:\\users\\adity\\.conda\\envs\\genai\\lib\\site-packages (from mlflow-skinny==3.1.2->mlflow) (8.1.8)\n",
      "Collecting cloudpickle<4 (from mlflow-skinny==3.1.2->mlflow)\n",
      "  Using cached cloudpickle-3.1.1-py3-none-any.whl.metadata (7.1 kB)\n",
      "Collecting databricks-sdk<1,>=0.20.0 (from mlflow-skinny==3.1.2->mlflow)\n",
      "  Using cached databricks_sdk-0.57.0-py3-none-any.whl.metadata (39 kB)\n",
      "Requirement already satisfied: fastapi<1 in c:\\users\\adity\\.conda\\envs\\genai\\lib\\site-packages (from mlflow-skinny==3.1.2->mlflow) (0.115.12)\n",
      "Requirement already satisfied: gitpython<4,>=3.1.9 in c:\\users\\adity\\.conda\\envs\\genai\\lib\\site-packages (from mlflow-skinny==3.1.2->mlflow) (3.1.44)\n",
      "Requirement already satisfied: importlib_metadata!=4.7.0,<9,>=3.7.0 in c:\\users\\adity\\.conda\\envs\\genai\\lib\\site-packages (from mlflow-skinny==3.1.2->mlflow) (8.6.1)\n",
      "Requirement already satisfied: opentelemetry-api<3,>=1.9.0 in c:\\users\\adity\\.conda\\envs\\genai\\lib\\site-packages (from mlflow-skinny==3.1.2->mlflow) (1.31.1)\n",
      "Requirement already satisfied: opentelemetry-sdk<3,>=1.9.0 in c:\\users\\adity\\.conda\\envs\\genai\\lib\\site-packages (from mlflow-skinny==3.1.2->mlflow) (1.31.1)\n",
      "Requirement already satisfied: packaging<26 in c:\\users\\adity\\.conda\\envs\\genai\\lib\\site-packages (from mlflow-skinny==3.1.2->mlflow) (24.2)\n",
      "Requirement already satisfied: protobuf<7,>=3.12.0 in c:\\users\\adity\\.conda\\envs\\genai\\lib\\site-packages (from mlflow-skinny==3.1.2->mlflow) (5.29.4)\n",
      "Requirement already satisfied: pydantic<3,>=1.10.8 in c:\\users\\adity\\.conda\\envs\\genai\\lib\\site-packages (from mlflow-skinny==3.1.2->mlflow) (2.11.3)\n",
      "Requirement already satisfied: pyyaml<7,>=5.1 in c:\\users\\adity\\.conda\\envs\\genai\\lib\\site-packages (from mlflow-skinny==3.1.2->mlflow) (6.0.2)\n",
      "Requirement already satisfied: requests<3,>=2.17.3 in c:\\users\\adity\\.conda\\envs\\genai\\lib\\site-packages (from mlflow-skinny==3.1.2->mlflow) (2.32.3)\n",
      "Collecting sqlparse<1,>=0.4.0 (from mlflow-skinny==3.1.2->mlflow)\n",
      "  Using cached sqlparse-0.5.3-py3-none-any.whl.metadata (3.9 kB)\n",
      "Requirement already satisfied: typing-extensions<5,>=4.0.0 in c:\\users\\adity\\.conda\\envs\\genai\\lib\\site-packages (from mlflow-skinny==3.1.2->mlflow) (4.13.1)\n",
      "Requirement already satisfied: uvicorn<1 in c:\\users\\adity\\.conda\\envs\\genai\\lib\\site-packages (from mlflow-skinny==3.1.2->mlflow) (0.34.0)\n",
      "Collecting Mako (from alembic!=1.10.0,<2->mlflow)\n",
      "  Using cached mako-1.3.10-py3-none-any.whl.metadata (2.9 kB)\n",
      "Requirement already satisfied: tomli in c:\\users\\adity\\.conda\\envs\\genai\\lib\\site-packages (from alembic!=1.10.0,<2->mlflow) (2.2.1)\n",
      "Requirement already satisfied: pywin32>=304 in c:\\users\\adity\\.conda\\envs\\genai\\lib\\site-packages (from docker<8,>=4.0.0->mlflow) (310)\n",
      "Requirement already satisfied: urllib3>=1.26.0 in c:\\users\\adity\\.conda\\envs\\genai\\lib\\site-packages (from docker<8,>=4.0.0->mlflow) (2.3.0)\n",
      "Requirement already satisfied: Werkzeug>=3.1 in c:\\users\\adity\\.conda\\envs\\genai\\lib\\site-packages (from Flask<4->mlflow) (3.1.3)\n",
      "Requirement already satisfied: Jinja2>=3.1.2 in c:\\users\\adity\\.conda\\envs\\genai\\lib\\site-packages (from Flask<4->mlflow) (3.1.6)\n",
      "Requirement already satisfied: itsdangerous>=2.2 in c:\\users\\adity\\.conda\\envs\\genai\\lib\\site-packages (from Flask<4->mlflow) (2.2.0)\n",
      "Requirement already satisfied: blinker>=1.9 in c:\\users\\adity\\.conda\\envs\\genai\\lib\\site-packages (from Flask<4->mlflow) (1.9.0)\n",
      "Collecting graphql-core<3.3,>=3.1 (from graphene<4->mlflow)\n",
      "  Using cached graphql_core-3.2.6-py3-none-any.whl.metadata (11 kB)\n",
      "Collecting graphql-relay<3.3,>=3.1 (from graphene<4->mlflow)\n",
      "  Using cached graphql_relay-3.2.0-py3-none-any.whl.metadata (12 kB)\n",
      "Requirement already satisfied: python-dateutil<3,>=2.7.0 in c:\\users\\adity\\.conda\\envs\\genai\\lib\\site-packages (from graphene<4->mlflow) (2.9.0.post0)\n",
      "Requirement already satisfied: contourpy>=1.0.1 in c:\\users\\adity\\.conda\\envs\\genai\\lib\\site-packages (from matplotlib<4->mlflow) (1.3.2)\n",
      "Requirement already satisfied: cycler>=0.10 in c:\\users\\adity\\.conda\\envs\\genai\\lib\\site-packages (from matplotlib<4->mlflow) (0.12.1)\n",
      "Requirement already satisfied: fonttools>=4.22.0 in c:\\users\\adity\\.conda\\envs\\genai\\lib\\site-packages (from matplotlib<4->mlflow) (4.58.0)\n",
      "Requirement already satisfied: kiwisolver>=1.3.1 in c:\\users\\adity\\.conda\\envs\\genai\\lib\\site-packages (from matplotlib<4->mlflow) (1.4.8)\n",
      "Requirement already satisfied: pillow>=8 in c:\\users\\adity\\.conda\\envs\\genai\\lib\\site-packages (from matplotlib<4->mlflow) (11.1.0)\n",
      "Requirement already satisfied: pyparsing>=2.3.1 in c:\\users\\adity\\.conda\\envs\\genai\\lib\\site-packages (from matplotlib<4->mlflow) (3.2.3)\n",
      "Requirement already satisfied: pytz>=2020.1 in c:\\users\\adity\\.conda\\envs\\genai\\lib\\site-packages (from pandas<3->mlflow) (2025.2)\n",
      "Requirement already satisfied: tzdata>=2022.7 in c:\\users\\adity\\.conda\\envs\\genai\\lib\\site-packages (from pandas<3->mlflow) (2025.2)\n",
      "Requirement already satisfied: joblib>=1.2.0 in c:\\users\\adity\\.conda\\envs\\genai\\lib\\site-packages (from scikit-learn<2->mlflow) (1.4.2)\n",
      "Requirement already satisfied: threadpoolctl>=3.1.0 in c:\\users\\adity\\.conda\\envs\\genai\\lib\\site-packages (from scikit-learn<2->mlflow) (3.6.0)\n",
      "Requirement already satisfied: greenlet>=1 in c:\\users\\adity\\.conda\\envs\\genai\\lib\\site-packages (from sqlalchemy<3,>=1.4.0->mlflow) (3.1.1)\n",
      "Requirement already satisfied: colorama in c:\\users\\adity\\.conda\\envs\\genai\\lib\\site-packages (from click<9,>=7.0->mlflow-skinny==3.1.2->mlflow) (0.4.6)\n",
      "Requirement already satisfied: google-auth~=2.0 in c:\\users\\adity\\.conda\\envs\\genai\\lib\\site-packages (from databricks-sdk<1,>=0.20.0->mlflow-skinny==3.1.2->mlflow) (2.38.0)\n",
      "Requirement already satisfied: starlette<0.47.0,>=0.40.0 in c:\\users\\adity\\.conda\\envs\\genai\\lib\\site-packages (from fastapi<1->mlflow-skinny==3.1.2->mlflow) (0.45.3)\n",
      "Requirement already satisfied: gitdb<5,>=4.0.1 in c:\\users\\adity\\.conda\\envs\\genai\\lib\\site-packages (from gitpython<4,>=3.1.9->mlflow-skinny==3.1.2->mlflow) (4.0.12)\n",
      "Requirement already satisfied: zipp>=3.20 in c:\\users\\adity\\.conda\\envs\\genai\\lib\\site-packages (from importlib_metadata!=4.7.0,<9,>=3.7.0->mlflow-skinny==3.1.2->mlflow) (3.21.0)\n",
      "Requirement already satisfied: MarkupSafe>=2.0 in c:\\users\\adity\\.conda\\envs\\genai\\lib\\site-packages (from Jinja2>=3.1.2->Flask<4->mlflow) (3.0.2)\n",
      "Requirement already satisfied: deprecated>=1.2.6 in c:\\users\\adity\\.conda\\envs\\genai\\lib\\site-packages (from opentelemetry-api<3,>=1.9.0->mlflow-skinny==3.1.2->mlflow) (1.2.18)\n",
      "Requirement already satisfied: opentelemetry-semantic-conventions==0.52b1 in c:\\users\\adity\\.conda\\envs\\genai\\lib\\site-packages (from opentelemetry-sdk<3,>=1.9.0->mlflow-skinny==3.1.2->mlflow) (0.52b1)\n",
      "Requirement already satisfied: annotated-types>=0.6.0 in c:\\users\\adity\\.conda\\envs\\genai\\lib\\site-packages (from pydantic<3,>=1.10.8->mlflow-skinny==3.1.2->mlflow) (0.7.0)\n",
      "Requirement already satisfied: pydantic-core==2.33.1 in c:\\users\\adity\\.conda\\envs\\genai\\lib\\site-packages (from pydantic<3,>=1.10.8->mlflow-skinny==3.1.2->mlflow) (2.33.1)\n",
      "Requirement already satisfied: typing-inspection>=0.4.0 in c:\\users\\adity\\.conda\\envs\\genai\\lib\\site-packages (from pydantic<3,>=1.10.8->mlflow-skinny==3.1.2->mlflow) (0.4.0)\n",
      "Requirement already satisfied: six>=1.5 in c:\\users\\adity\\.conda\\envs\\genai\\lib\\site-packages (from python-dateutil<3,>=2.7.0->graphene<4->mlflow) (1.17.0)\n",
      "Requirement already satisfied: charset-normalizer<4,>=2 in c:\\users\\adity\\.conda\\envs\\genai\\lib\\site-packages (from requests<3,>=2.17.3->mlflow-skinny==3.1.2->mlflow) (3.4.1)\n",
      "Requirement already satisfied: idna<4,>=2.5 in c:\\users\\adity\\.conda\\envs\\genai\\lib\\site-packages (from requests<3,>=2.17.3->mlflow-skinny==3.1.2->mlflow) (3.10)\n",
      "Requirement already satisfied: certifi>=2017.4.17 in c:\\users\\adity\\.conda\\envs\\genai\\lib\\site-packages (from requests<3,>=2.17.3->mlflow-skinny==3.1.2->mlflow) (2025.1.31)\n",
      "Requirement already satisfied: h11>=0.8 in c:\\users\\adity\\.conda\\envs\\genai\\lib\\site-packages (from uvicorn<1->mlflow-skinny==3.1.2->mlflow) (0.14.0)\n",
      "Requirement already satisfied: wrapt<2,>=1.10 in c:\\users\\adity\\.conda\\envs\\genai\\lib\\site-packages (from deprecated>=1.2.6->opentelemetry-api<3,>=1.9.0->mlflow-skinny==3.1.2->mlflow) (1.17.2)\n",
      "Requirement already satisfied: smmap<6,>=3.0.1 in c:\\users\\adity\\.conda\\envs\\genai\\lib\\site-packages (from gitdb<5,>=4.0.1->gitpython<4,>=3.1.9->mlflow-skinny==3.1.2->mlflow) (5.0.2)\n",
      "Requirement already satisfied: pyasn1-modules>=0.2.1 in c:\\users\\adity\\.conda\\envs\\genai\\lib\\site-packages (from google-auth~=2.0->databricks-sdk<1,>=0.20.0->mlflow-skinny==3.1.2->mlflow) (0.4.2)\n",
      "Requirement already satisfied: rsa<5,>=3.1.4 in c:\\users\\adity\\.conda\\envs\\genai\\lib\\site-packages (from google-auth~=2.0->databricks-sdk<1,>=0.20.0->mlflow-skinny==3.1.2->mlflow) (4.9)\n",
      "Requirement already satisfied: anyio<5,>=3.6.2 in c:\\users\\adity\\.conda\\envs\\genai\\lib\\site-packages (from starlette<0.47.0,>=0.40.0->fastapi<1->mlflow-skinny==3.1.2->mlflow) (4.9.0)\n",
      "Requirement already satisfied: exceptiongroup>=1.0.2 in c:\\users\\adity\\.conda\\envs\\genai\\lib\\site-packages (from anyio<5,>=3.6.2->starlette<0.47.0,>=0.40.0->fastapi<1->mlflow-skinny==3.1.2->mlflow) (1.2.2)\n",
      "Requirement already satisfied: sniffio>=1.1 in c:\\users\\adity\\.conda\\envs\\genai\\lib\\site-packages (from anyio<5,>=3.6.2->starlette<0.47.0,>=0.40.0->fastapi<1->mlflow-skinny==3.1.2->mlflow) (1.3.1)\n",
      "Requirement already satisfied: pyasn1<0.7.0,>=0.6.1 in c:\\users\\adity\\.conda\\envs\\genai\\lib\\site-packages (from pyasn1-modules>=0.2.1->google-auth~=2.0->databricks-sdk<1,>=0.20.0->mlflow-skinny==3.1.2->mlflow) (0.6.1)\n",
      "Using cached mlflow-3.1.2-py3-none-any.whl (24.7 MB)\n",
      "Using cached mlflow_skinny-3.1.2-py3-none-any.whl (1.9 MB)\n",
      "Downloading alembic-1.16.2-py3-none-any.whl (242 kB)\n",
      "Using cached docker-7.1.0-py3-none-any.whl (147 kB)\n",
      "Using cached graphene-3.4.3-py2.py3-none-any.whl (114 kB)\n",
      "Using cached waitress-3.0.2-py3-none-any.whl (56 kB)\n",
      "Using cached cloudpickle-3.1.1-py3-none-any.whl (20 kB)\n",
      "Using cached databricks_sdk-0.57.0-py3-none-any.whl (733 kB)\n",
      "Using cached graphql_core-3.2.6-py3-none-any.whl (203 kB)\n",
      "Using cached graphql_relay-3.2.0-py3-none-any.whl (16 kB)\n",
      "Using cached sqlparse-0.5.3-py3-none-any.whl (44 kB)\n",
      "Using cached mako-1.3.10-py3-none-any.whl (78 kB)\n",
      "Installing collected packages: waitress, sqlparse, Mako, graphql-core, cloudpickle, graphql-relay, docker, alembic, graphene, databricks-sdk, mlflow-skinny, mlflow\n",
      "Successfully installed Mako-1.3.10 alembic-1.16.2 cloudpickle-3.1.1 databricks-sdk-0.57.0 docker-7.1.0 graphene-3.4.3 graphql-core-3.2.6 graphql-relay-3.2.0 mlflow-3.1.2 mlflow-skinny-3.1.2 sqlparse-0.5.3 waitress-3.0.2\n"
     ]
    }
   ],
   "source": [
    "! pip install mlflow"
   ]
  },
  {
   "cell_type": "code",
   "execution_count": 27,
   "id": "f83ad39e",
   "metadata": {},
   "outputs": [
    {
     "name": "stderr",
     "output_type": "stream",
     "text": [
      "2025/07/08 23:15:36 INFO mlflow.tracking.fluent: Experiment with name 'comprehensive_ml_experiment' does not exist. Creating a new experiment.\n"
     ]
    },
    {
     "name": "stderr",
     "output_type": "stream",
     "text": [
      "2025/07/08 23:15:37 WARNING mlflow.models.model: `artifact_path` is deprecated. Please use `name` instead.\n",
      "2025/07/08 23:15:57 WARNING mlflow.models.model: Model logged without a signature and input example. Please set `input_example` parameter when logging the model to auto infer the model signature.\n",
      "2025/07/08 23:15:57 WARNING mlflow.models.model: Model logged without a signature and input example. Please set `input_example` parameter when logging the model to auto infer the model signature.\n"
     ]
    },
    {
     "name": "stdout",
     "output_type": "stream",
     "text": [
      "logistic_regression - Accuracy: 0.9100, F1: 0.9005\n",
      "🏃 View run logistic_regression_run at: http://127.0.0.1:5000/#/experiments/638458303277450339/runs/c04cdcdbd0bd45ae8c2dd81929b98565\n",
      "🧪 View experiment at: http://127.0.0.1:5000/#/experiments/638458303277450339\n"
     ]
    },
    {
     "name": "stderr",
     "output_type": "stream",
     "text": [
      "2025/07/08 23:15:59 WARNING mlflow.models.model: `artifact_path` is deprecated. Please use `name` instead.\n",
      "2025/07/08 23:16:04 WARNING mlflow.utils.environment: Encountered an unexpected error while inferring pip requirements (model URI: C:\\Users\\adity\\AppData\\Local\\Temp\\tmphjlp3ows\\model\\model.pkl, flavor: sklearn). Fall back to return ['scikit-learn==1.6.1', 'cloudpickle==3.1.1']. Set logging level to DEBUG to see the full traceback. \n",
      "2025/07/08 23:16:04 WARNING mlflow.utils.environment: Encountered an unexpected error while inferring pip requirements (model URI: C:\\Users\\adity\\AppData\\Local\\Temp\\tmphjlp3ows\\model\\model.pkl, flavor: sklearn). Fall back to return ['scikit-learn==1.6.1', 'cloudpickle==3.1.1']. Set logging level to DEBUG to see the full traceback. \n",
      "2025/07/08 23:16:04 WARNING mlflow.models.model: Model logged without a signature and input example. Please set `input_example` parameter when logging the model to auto infer the model signature.\n",
      "2025/07/08 23:16:04 WARNING mlflow.models.model: Model logged without a signature and input example. Please set `input_example` parameter when logging the model to auto infer the model signature.\n"
     ]
    },
    {
     "name": "stdout",
     "output_type": "stream",
     "text": [
      "random_forest - Accuracy: 0.9600, F1: 0.9586\n",
      "🏃 View run random_forest_run at: http://127.0.0.1:5000/#/experiments/638458303277450339/runs/b0a4ff7479f2436ba0534964043b4493\n",
      "🧪 View experiment at: http://127.0.0.1:5000/#/experiments/638458303277450339\n"
     ]
    },
    {
     "name": "stderr",
     "output_type": "stream",
     "text": [
      "2025/07/08 23:16:07 WARNING mlflow.models.model: `artifact_path` is deprecated. Please use `name` instead.\n",
      "c:\\Users\\adity\\.conda\\envs\\genai\\lib\\site-packages\\xgboost\\sklearn.py:1028: UserWarning: [23:16:07] WARNING: C:\\actions-runner\\_work\\xgboost\\xgboost\\src\\c_api\\c_api.cc:1427: Saving model in the UBJSON format as default.  You can use file extension: `json`, `ubj` or `deprecated` to choose between formats.\n",
      "  self.get_booster().save_model(fname)\n",
      "c:\\Users\\adity\\.conda\\envs\\genai\\lib\\site-packages\\xgboost\\sklearn.py:1028: UserWarning: [23:16:07] WARNING: C:\\actions-runner\\_work\\xgboost\\xgboost\\src\\c_api\\c_api.cc:1427: Saving model in the UBJSON format as default.  You can use file extension: `json`, `ubj` or `deprecated` to choose between formats.\n",
      "  self.get_booster().save_model(fname)\n",
      "2025/07/08 23:16:15 WARNING mlflow.utils.environment: Encountered an unexpected error while inferring pip requirements (model URI: C:\\Users\\adity\\AppData\\Local\\Temp\\tmptua55q1t\\model, flavor: xgboost). Fall back to return ['xgboost==3.0.2']. Set logging level to DEBUG to see the full traceback. \n",
      "2025/07/08 23:16:15 WARNING mlflow.utils.environment: Encountered an unexpected error while inferring pip requirements (model URI: C:\\Users\\adity\\AppData\\Local\\Temp\\tmptua55q1t\\model, flavor: xgboost). Fall back to return ['xgboost==3.0.2']. Set logging level to DEBUG to see the full traceback. \n",
      "2025/07/08 23:16:15 WARNING mlflow.models.model: Model logged without a signature and input example. Please set `input_example` parameter when logging the model to auto infer the model signature.\n",
      "2025/07/08 23:16:15 WARNING mlflow.models.model: Model logged without a signature and input example. Please set `input_example` parameter when logging the model to auto infer the model signature.\n"
     ]
    },
    {
     "name": "stdout",
     "output_type": "stream",
     "text": [
      "xgboost - Accuracy: 0.9500, F1: 0.9500\n",
      "🏃 View run xgboost_run at: http://127.0.0.1:5000/#/experiments/638458303277450339/runs/8091cb393ae24dfe91d377ce39987a9b\n",
      "🧪 View experiment at: http://127.0.0.1:5000/#/experiments/638458303277450339\n",
      "All models logged to MLflow successfully!\n"
     ]
    }
   ],
   "source": [
    "# Enhanced MLflow tracking with more comprehensive logging\n",
    "import mlflow\n",
    "from sklearn.metrics import precision_score, recall_score, f1_score\n",
    "\n",
    "mlflow.set_experiment(\"comprehensive_ml_experiment\")\n",
    "mlflow.set_tracking_uri(\"http://127.0.0.1:5000/\")\n",
    "\n",
    "# Log multiple models for comparison\n",
    "models = {\n",
    "    \"logistic_regression\": (log_reg, y_pred_log),\n",
    "    \"random_forest\": (rf_clf, y_pred_rf),\n",
    "    \"xgboost\": (xgb_clf, y_pred_xgb)\n",
    "}\n",
    "\n",
    "for model_name, (model, predictions) in models.items():\n",
    "    with mlflow.start_run(run_name=f\"{model_name}_run\"):\n",
    "        # Log model parameters\n",
    "        if hasattr(model, 'get_params'):\n",
    "            params = model.get_params()\n",
    "            for param_name, param_value in params.items():\n",
    "                mlflow.log_param(param_name, param_value)\n",
    "        \n",
    "        # Log metrics\n",
    "        accuracy = accuracy_score(y_test, predictions)\n",
    "        precision = precision_score(y_test, predictions, average='weighted')\n",
    "        recall = recall_score(y_test, predictions, average='weighted')\n",
    "        f1 = f1_score(y_test, predictions, average='weighted')\n",
    "        \n",
    "        mlflow.log_metric(\"accuracy\", accuracy)\n",
    "        mlflow.log_metric(\"precision\", precision)\n",
    "        mlflow.log_metric(\"recall\", recall)\n",
    "        mlflow.log_metric(\"f1_score\", f1)\n",
    "        \n",
    "        # Log model\n",
    "        if model_name == \"logistic_regression\":\n",
    "            mlflow.sklearn.log_model(model, \"model\")\n",
    "        elif model_name == \"random_forest\":\n",
    "            mlflow.sklearn.log_model(model, \"model\")\n",
    "        elif model_name == \"xgboost\":\n",
    "            mlflow.xgboost.log_model(model, \"model\")\n",
    "        \n",
    "        # Log dataset info\n",
    "        mlflow.log_param(\"dataset_size\", len(X))\n",
    "        mlflow.log_param(\"n_features\", X.shape[1])\n",
    "        mlflow.log_param(\"train_size\", len(x_train_res))\n",
    "        mlflow.log_param(\"test_size\", len(x_test))\n",
    "        mlflow.log_param(\"resampling_technique\", \"SMOTETomek\")\n",
    "        \n",
    "        print(f\"{model_name} - Accuracy: {accuracy:.4f}, F1: {f1:.4f}\")\n",
    "\n",
    "print(\"All models logged to MLflow successfully!\")"
   ]
  },
  {
   "cell_type": "code",
   "execution_count": 33,
   "id": "89b7519d",
   "metadata": {},
   "outputs": [
    {
     "name": "stderr",
     "output_type": "stream",
     "text": [
      "Registered model 'xgboost_classifier' already exists. Creating a new version of this model...\n",
      "2025/07/08 23:49:59 WARNING mlflow.tracking._model_registry.fluent: Run with id 8091cb393ae24dfe91d377ce39987a9b has no artifacts at artifact path 'model', registering model based on models:/m-eec416c605f04be4af641b02b13b7112 instead\n"
     ]
    },
    {
     "name": "stdout",
     "output_type": "stream",
     "text": [
      "Latest XGBoost run ID: 8091cb393ae24dfe91d377ce39987a9b\n",
      "Model URI: runs:/8091cb393ae24dfe91d377ce39987a9b/model\n"
     ]
    },
    {
     "name": "stderr",
     "output_type": "stream",
     "text": [
      "2025/07/08 23:49:59 INFO mlflow.store.model_registry.abstract_store: Waiting up to 300 seconds for model version to finish creation. Model name: xgboost_classifier, version 2\n"
     ]
    },
    {
     "name": "stdout",
     "output_type": "stream",
     "text": [
      "Model registered successfully!\n",
      "Model name: xgboost_classifier\n",
      "Version: 2\n"
     ]
    },
    {
     "name": "stderr",
     "output_type": "stream",
     "text": [
      "Created version '2' of model 'xgboost_classifier'.\n"
     ]
    }
   ],
   "source": [
    "# Better approach: Get the latest run and register model automatically\n",
    "import mlflow\n",
    "\n",
    "# Set the experiment and tracking URI\n",
    "mlflow.set_experiment(\"comprehensive_ml_experiment\")\n",
    "mlflow.set_tracking_uri(\"http://127.0.0.1:5000/\")\n",
    "\n",
    "# Get the latest run for the XGBoost model\n",
    "experiment = mlflow.get_experiment_by_name(\"comprehensive_ml_experiment\")\n",
    "runs = mlflow.search_runs(experiment_ids=[experiment.experiment_id], \n",
    "                         filter_string=\"tags.mlflow.runName = 'xgboost_run'\",\n",
    "                         order_by=[\"start_time DESC\"],\n",
    "                         max_results=1)\n",
    "\n",
    "if len(runs) > 0:\n",
    "    latest_run_id = runs.iloc[0]['run_id']\n",
    "    model_uri = f\"runs:/{latest_run_id}/model\"\n",
    "    \n",
    "    print(f\"Latest XGBoost run ID: {latest_run_id}\")\n",
    "    print(f\"Model URI: {model_uri}\")\n",
    "    \n",
    "    # Register the model\n",
    "    try:\n",
    "        result = mlflow.register_model(model_uri=model_uri, name=\"xgboost_classifier\")\n",
    "        print(f\"Model registered successfully!\")\n",
    "        print(f\"Model name: {result.name}\")\n",
    "        print(f\"Version: {result.version}\")\n",
    "    except Exception as e:\n",
    "        print(f\"Error registering model: {e}\")\n",
    "else:\n",
    "    print(\"No XGBoost runs found. Please run the model training cells first.\")\n",
    "\n"
   ]
  },
  {
   "cell_type": "markdown",
   "id": "4cd250bc",
   "metadata": {},
   "source": [
    "Load Model"
   ]
  },
  {
   "cell_type": "code",
   "execution_count": null,
   "metadata": {},
   "outputs": [
    {
     "ename": "RestException",
     "evalue": "RESOURCE_DOES_NOT_EXIST: Model Version (name=xgboost, version=1) not found",
     "output_type": "error",
     "traceback": [
      "\u001b[1;31m---------------------------------------------------------------------------\u001b[0m",
      "\u001b[1;31mRestException\u001b[0m                             Traceback (most recent call last)",
      "Cell \u001b[1;32mIn[34], line 3\u001b[0m\n\u001b[0;32m      1\u001b[0m model_version\u001b[38;5;241m=\u001b[39m\u001b[38;5;241m1\u001b[39m\n\u001b[0;32m      2\u001b[0m model_uri\u001b[38;5;241m=\u001b[39m\u001b[38;5;124mf\u001b[39m\u001b[38;5;124m\"\u001b[39m\u001b[38;5;124mmodels:/\u001b[39m\u001b[38;5;132;01m{\u001b[39;00mmodel_name\u001b[38;5;132;01m}\u001b[39;00m\u001b[38;5;124m/\u001b[39m\u001b[38;5;132;01m{\u001b[39;00mmodel_version\u001b[38;5;132;01m}\u001b[39;00m\u001b[38;5;124m\"\u001b[39m\n\u001b[1;32m----> 3\u001b[0m loaded_model\u001b[38;5;241m=\u001b[39m\u001b[43mmlflow\u001b[49m\u001b[38;5;241;43m.\u001b[39;49m\u001b[43mxgboost\u001b[49m\u001b[38;5;241;43m.\u001b[39;49m\u001b[43mload_model\u001b[49m\u001b[43m(\u001b[49m\u001b[43mmodel_uri\u001b[49m\u001b[38;5;241;43m=\u001b[39;49m\u001b[43mmodel_uri\u001b[49m\u001b[43m)\u001b[49m\n\u001b[0;32m      4\u001b[0m y_pred\u001b[38;5;241m=\u001b[39mloaded_model\u001b[38;5;241m.\u001b[39mpredict(x_test)\n\u001b[0;32m      5\u001b[0m y_pred[:\u001b[38;5;241m4\u001b[39m]\n",
      "File \u001b[1;32mc:\\Users\\adity\\.conda\\envs\\genai\\lib\\site-packages\\mlflow\\xgboost\\__init__.py:355\u001b[0m, in \u001b[0;36mload_model\u001b[1;34m(model_uri, dst_path)\u001b[0m\n\u001b[0;32m    333\u001b[0m \u001b[38;5;28;01mdef\u001b[39;00m\u001b[38;5;250m \u001b[39m\u001b[38;5;21mload_model\u001b[39m(model_uri, dst_path\u001b[38;5;241m=\u001b[39m\u001b[38;5;28;01mNone\u001b[39;00m):\n\u001b[0;32m    334\u001b[0m \u001b[38;5;250m    \u001b[39m\u001b[38;5;124;03m\"\"\"Load an XGBoost model from a local file or a run.\u001b[39;00m\n\u001b[0;32m    335\u001b[0m \n\u001b[0;32m    336\u001b[0m \u001b[38;5;124;03m    Args:\u001b[39;00m\n\u001b[1;32m   (...)\u001b[0m\n\u001b[0;32m    353\u001b[0m \u001b[38;5;124;03m        models, depending on the saved model class specification.\u001b[39;00m\n\u001b[0;32m    354\u001b[0m \u001b[38;5;124;03m    \"\"\"\u001b[39;00m\n\u001b[1;32m--> 355\u001b[0m     local_model_path \u001b[38;5;241m=\u001b[39m \u001b[43m_download_artifact_from_uri\u001b[49m\u001b[43m(\u001b[49m\u001b[43martifact_uri\u001b[49m\u001b[38;5;241;43m=\u001b[39;49m\u001b[43mmodel_uri\u001b[49m\u001b[43m,\u001b[49m\u001b[43m \u001b[49m\u001b[43moutput_path\u001b[49m\u001b[38;5;241;43m=\u001b[39;49m\u001b[43mdst_path\u001b[49m\u001b[43m)\u001b[49m\n\u001b[0;32m    356\u001b[0m     flavor_conf \u001b[38;5;241m=\u001b[39m _get_flavor_configuration(local_model_path, FLAVOR_NAME)\n\u001b[0;32m    357\u001b[0m     _add_code_from_conf_to_system_path(local_model_path, flavor_conf)\n",
      "File \u001b[1;32mc:\\Users\\adity\\.conda\\envs\\genai\\lib\\site-packages\\mlflow\\tracking\\artifact_utils.py:115\u001b[0m, in \u001b[0;36m_download_artifact_from_uri\u001b[1;34m(artifact_uri, output_path, lineage_header_info, tracking_uri)\u001b[0m\n\u001b[0;32m    106\u001b[0m \u001b[38;5;250m\u001b[39m\u001b[38;5;124;03m\"\"\"\u001b[39;00m\n\u001b[0;32m    107\u001b[0m \u001b[38;5;124;03mArgs:\u001b[39;00m\n\u001b[0;32m    108\u001b[0m \u001b[38;5;124;03m    artifact_uri: The *absolute* URI of the artifact to download.\u001b[39;00m\n\u001b[1;32m   (...)\u001b[0m\n\u001b[0;32m    112\u001b[0m \u001b[38;5;124;03m    tracking_uri: The tracking URI to be used when downloading artifacts.\u001b[39;00m\n\u001b[0;32m    113\u001b[0m \u001b[38;5;124;03m\"\"\"\u001b[39;00m\n\u001b[0;32m    114\u001b[0m root_uri, artifact_path \u001b[38;5;241m=\u001b[39m _get_root_uri_and_artifact_path(artifact_uri)\n\u001b[1;32m--> 115\u001b[0m repo \u001b[38;5;241m=\u001b[39m \u001b[43mget_artifact_repository\u001b[49m\u001b[43m(\u001b[49m\u001b[43martifact_uri\u001b[49m\u001b[38;5;241;43m=\u001b[39;49m\u001b[43mroot_uri\u001b[49m\u001b[43m,\u001b[49m\u001b[43m \u001b[49m\u001b[43mtracking_uri\u001b[49m\u001b[38;5;241;43m=\u001b[39;49m\u001b[43mtracking_uri\u001b[49m\u001b[43m)\u001b[49m\n\u001b[0;32m    117\u001b[0m \u001b[38;5;28;01mtry\u001b[39;00m:\n\u001b[0;32m    118\u001b[0m     \u001b[38;5;28;01mif\u001b[39;00m \u001b[38;5;28misinstance\u001b[39m(repo, ModelsArtifactRepository):\n",
      "File \u001b[1;32mc:\\Users\\adity\\.conda\\envs\\genai\\lib\\site-packages\\mlflow\\store\\artifact\\artifact_repository_registry.py:144\u001b[0m, in \u001b[0;36mget_artifact_repository\u001b[1;34m(artifact_uri, tracking_uri)\u001b[0m\n\u001b[0;32m    127\u001b[0m \u001b[38;5;28;01mdef\u001b[39;00m\u001b[38;5;250m \u001b[39m\u001b[38;5;21mget_artifact_repository\u001b[39m(\n\u001b[0;32m    128\u001b[0m     artifact_uri: \u001b[38;5;28mstr\u001b[39m, tracking_uri: Optional[\u001b[38;5;28mstr\u001b[39m] \u001b[38;5;241m=\u001b[39m \u001b[38;5;28;01mNone\u001b[39;00m\n\u001b[0;32m    129\u001b[0m ) \u001b[38;5;241m-\u001b[39m\u001b[38;5;241m>\u001b[39m ArtifactRepository:\n\u001b[0;32m    130\u001b[0m \u001b[38;5;250m    \u001b[39m\u001b[38;5;124;03m\"\"\"\u001b[39;00m\n\u001b[0;32m    131\u001b[0m \u001b[38;5;124;03m    Get an artifact repository from the registry based on the scheme of artifact_uri\u001b[39;00m\n\u001b[0;32m    132\u001b[0m \n\u001b[1;32m   (...)\u001b[0m\n\u001b[0;32m    142\u001b[0m \u001b[38;5;124;03m        requirements.\u001b[39;00m\n\u001b[0;32m    143\u001b[0m \u001b[38;5;124;03m    \"\"\"\u001b[39;00m\n\u001b[1;32m--> 144\u001b[0m     \u001b[38;5;28;01mreturn\u001b[39;00m \u001b[43m_artifact_repository_registry\u001b[49m\u001b[38;5;241;43m.\u001b[39;49m\u001b[43mget_artifact_repository\u001b[49m\u001b[43m(\u001b[49m\u001b[43martifact_uri\u001b[49m\u001b[43m,\u001b[49m\u001b[43m \u001b[49m\u001b[43mtracking_uri\u001b[49m\u001b[43m)\u001b[49m\n",
      "File \u001b[1;32mc:\\Users\\adity\\.conda\\envs\\genai\\lib\\site-packages\\mlflow\\store\\artifact\\artifact_repository_registry.py:82\u001b[0m, in \u001b[0;36mArtifactRepositoryRegistry.get_artifact_repository\u001b[1;34m(self, artifact_uri, tracking_uri)\u001b[0m\n\u001b[0;32m     77\u001b[0m \u001b[38;5;28;01mif\u001b[39;00m repository \u001b[38;5;129;01mis\u001b[39;00m \u001b[38;5;28;01mNone\u001b[39;00m:\n\u001b[0;32m     78\u001b[0m     \u001b[38;5;28;01mraise\u001b[39;00m MlflowException(\n\u001b[0;32m     79\u001b[0m         \u001b[38;5;124mf\u001b[39m\u001b[38;5;124m\"\u001b[39m\u001b[38;5;124mCould not find a registered artifact repository for: \u001b[39m\u001b[38;5;132;01m{\u001b[39;00martifact_uri\u001b[38;5;132;01m}\u001b[39;00m\u001b[38;5;124m. \u001b[39m\u001b[38;5;124m\"\u001b[39m\n\u001b[0;32m     80\u001b[0m         \u001b[38;5;124mf\u001b[39m\u001b[38;5;124m\"\u001b[39m\u001b[38;5;124mCurrently registered schemes are: \u001b[39m\u001b[38;5;132;01m{\u001b[39;00m\u001b[38;5;28mlist\u001b[39m(\u001b[38;5;28mself\u001b[39m\u001b[38;5;241m.\u001b[39m_registry\u001b[38;5;241m.\u001b[39mkeys())\u001b[38;5;132;01m}\u001b[39;00m\u001b[38;5;124m\"\u001b[39m\n\u001b[0;32m     81\u001b[0m     )\n\u001b[1;32m---> 82\u001b[0m \u001b[38;5;28;01mreturn\u001b[39;00m \u001b[43mrepository\u001b[49m\u001b[43m(\u001b[49m\u001b[43martifact_uri\u001b[49m\u001b[43m,\u001b[49m\u001b[43m \u001b[49m\u001b[43mtracking_uri\u001b[49m\u001b[43m)\u001b[49m\n",
      "File \u001b[1;32mc:\\Users\\adity\\.conda\\envs\\genai\\lib\\site-packages\\mlflow\\store\\artifact\\models_artifact_repo.py:73\u001b[0m, in \u001b[0;36mModelsArtifactRepository.__init__\u001b[1;34m(self, artifact_uri, tracking_uri)\u001b[0m\n\u001b[0;32m     67\u001b[0m     \u001b[38;5;28mself\u001b[39m\u001b[38;5;241m.\u001b[39mmodel_version \u001b[38;5;241m=\u001b[39m \u001b[38;5;28mself\u001b[39m\u001b[38;5;241m.\u001b[39mrepo\u001b[38;5;241m.\u001b[39mmodel_version\n\u001b[0;32m     68\u001b[0m \u001b[38;5;28;01melse\u001b[39;00m:\n\u001b[0;32m     69\u001b[0m     (\n\u001b[0;32m     70\u001b[0m         \u001b[38;5;28mself\u001b[39m\u001b[38;5;241m.\u001b[39mmodel_name,\n\u001b[0;32m     71\u001b[0m         \u001b[38;5;28mself\u001b[39m\u001b[38;5;241m.\u001b[39mmodel_version,\n\u001b[0;32m     72\u001b[0m         underlying_uri,\n\u001b[1;32m---> 73\u001b[0m     ) \u001b[38;5;241m=\u001b[39m \u001b[43mModelsArtifactRepository\u001b[49m\u001b[38;5;241;43m.\u001b[39;49m\u001b[43m_get_model_uri_infos\u001b[49m\u001b[43m(\u001b[49m\u001b[43martifact_uri\u001b[49m\u001b[43m)\u001b[49m\n\u001b[0;32m     74\u001b[0m     \u001b[38;5;28mself\u001b[39m\u001b[38;5;241m.\u001b[39mrepo \u001b[38;5;241m=\u001b[39m get_artifact_repository(underlying_uri)\n",
      "File \u001b[1;32mc:\\Users\\adity\\.conda\\envs\\genai\\lib\\site-packages\\mlflow\\store\\artifact\\models_artifact_repo.py:132\u001b[0m, in \u001b[0;36mModelsArtifactRepository._get_model_uri_infos\u001b[1;34m(uri)\u001b[0m\n\u001b[0;32m    130\u001b[0m \u001b[38;5;28;01melse\u001b[39;00m:\n\u001b[0;32m    131\u001b[0m     name, version \u001b[38;5;241m=\u001b[39m name_and_version_or_id\n\u001b[1;32m--> 132\u001b[0m     download_uri \u001b[38;5;241m=\u001b[39m \u001b[43mclient\u001b[49m\u001b[38;5;241;43m.\u001b[39;49m\u001b[43mget_model_version_download_uri\u001b[49m\u001b[43m(\u001b[49m\u001b[43mname\u001b[49m\u001b[43m,\u001b[49m\u001b[43m \u001b[49m\u001b[43mversion\u001b[49m\u001b[43m)\u001b[49m\n\u001b[0;32m    134\u001b[0m \u001b[38;5;28;01mreturn\u001b[39;00m (\n\u001b[0;32m    135\u001b[0m     name,\n\u001b[0;32m    136\u001b[0m     version,\n\u001b[0;32m    137\u001b[0m     add_databricks_profile_info_to_artifact_uri(download_uri, databricks_profile_uri),\n\u001b[0;32m    138\u001b[0m )\n",
      "File \u001b[1;32mc:\\Users\\adity\\.conda\\envs\\genai\\lib\\site-packages\\mlflow\\tracking\\client.py:4739\u001b[0m, in \u001b[0;36mMlflowClient.get_model_version_download_uri\u001b[1;34m(self, name, version)\u001b[0m\n\u001b[0;32m   4694\u001b[0m \u001b[38;5;250m\u001b[39m\u001b[38;5;124;03m\"\"\"\u001b[39;00m\n\u001b[0;32m   4695\u001b[0m \u001b[38;5;124;03mGet the download location in Model Registry for this model version.\u001b[39;00m\n\u001b[0;32m   4696\u001b[0m \n\u001b[1;32m   (...)\u001b[0m\n\u001b[0;32m   4736\u001b[0m \u001b[38;5;124;03m    Download URI: runs:/027d7bbe81924c5a82b3e4ce979fcab7/sklearn-model\u001b[39;00m\n\u001b[0;32m   4737\u001b[0m \u001b[38;5;124;03m\"\"\"\u001b[39;00m\n\u001b[0;32m   4738\u001b[0m \u001b[38;5;28mself\u001b[39m\u001b[38;5;241m.\u001b[39m_raise_if_prompt(name)\n\u001b[1;32m-> 4739\u001b[0m \u001b[38;5;28;01mreturn\u001b[39;00m \u001b[38;5;28;43mself\u001b[39;49m\u001b[38;5;241;43m.\u001b[39;49m\u001b[43m_get_registry_client\u001b[49m\u001b[43m(\u001b[49m\u001b[43m)\u001b[49m\u001b[38;5;241;43m.\u001b[39;49m\u001b[43mget_model_version_download_uri\u001b[49m\u001b[43m(\u001b[49m\u001b[43mname\u001b[49m\u001b[43m,\u001b[49m\u001b[43m \u001b[49m\u001b[43mversion\u001b[49m\u001b[43m)\u001b[49m\n",
      "File \u001b[1;32mc:\\Users\\adity\\.conda\\envs\\genai\\lib\\site-packages\\mlflow\\tracking\\_model_registry\\client.py:348\u001b[0m, in \u001b[0;36mModelRegistryClient.get_model_version_download_uri\u001b[1;34m(self, name, version)\u001b[0m\n\u001b[0;32m    337\u001b[0m \u001b[38;5;28;01mdef\u001b[39;00m\u001b[38;5;250m \u001b[39m\u001b[38;5;21mget_model_version_download_uri\u001b[39m(\u001b[38;5;28mself\u001b[39m, name, version):\n\u001b[0;32m    338\u001b[0m \u001b[38;5;250m    \u001b[39m\u001b[38;5;124;03m\"\"\"Get the download location in Model Registry for this model version.\u001b[39;00m\n\u001b[0;32m    339\u001b[0m \n\u001b[0;32m    340\u001b[0m \u001b[38;5;124;03m    Args:\u001b[39;00m\n\u001b[1;32m   (...)\u001b[0m\n\u001b[0;32m    346\u001b[0m \n\u001b[0;32m    347\u001b[0m \u001b[38;5;124;03m    \"\"\"\u001b[39;00m\n\u001b[1;32m--> 348\u001b[0m     \u001b[38;5;28;01mreturn\u001b[39;00m \u001b[38;5;28;43mself\u001b[39;49m\u001b[38;5;241;43m.\u001b[39;49m\u001b[43mstore\u001b[49m\u001b[38;5;241;43m.\u001b[39;49m\u001b[43mget_model_version_download_uri\u001b[49m\u001b[43m(\u001b[49m\u001b[43mname\u001b[49m\u001b[43m,\u001b[49m\u001b[43m \u001b[49m\u001b[43mversion\u001b[49m\u001b[43m)\u001b[49m\n",
      "File \u001b[1;32mc:\\Users\\adity\\.conda\\envs\\genai\\lib\\site-packages\\mlflow\\store\\model_registry\\rest_store.py:368\u001b[0m, in \u001b[0;36mRestStore.get_model_version_download_uri\u001b[1;34m(self, name, version)\u001b[0m\n\u001b[0;32m    355\u001b[0m \u001b[38;5;250m\u001b[39m\u001b[38;5;124;03m\"\"\"\u001b[39;00m\n\u001b[0;32m    356\u001b[0m \u001b[38;5;124;03mGet the download location in Model Registry for this model version.\u001b[39;00m\n\u001b[0;32m    357\u001b[0m \u001b[38;5;124;03mNOTE: For first version of Model Registry, since the models are not copied over to another\u001b[39;00m\n\u001b[1;32m   (...)\u001b[0m\n\u001b[0;32m    365\u001b[0m \u001b[38;5;124;03m    A single URI location that allows reads for downloading.\u001b[39;00m\n\u001b[0;32m    366\u001b[0m \u001b[38;5;124;03m\"\"\"\u001b[39;00m\n\u001b[0;32m    367\u001b[0m req_body \u001b[38;5;241m=\u001b[39m message_to_json(GetModelVersionDownloadUri(name\u001b[38;5;241m=\u001b[39mname, version\u001b[38;5;241m=\u001b[39m\u001b[38;5;28mstr\u001b[39m(version)))\n\u001b[1;32m--> 368\u001b[0m response_proto \u001b[38;5;241m=\u001b[39m \u001b[38;5;28;43mself\u001b[39;49m\u001b[38;5;241;43m.\u001b[39;49m\u001b[43m_call_endpoint\u001b[49m\u001b[43m(\u001b[49m\u001b[43mGetModelVersionDownloadUri\u001b[49m\u001b[43m,\u001b[49m\u001b[43m \u001b[49m\u001b[43mreq_body\u001b[49m\u001b[43m)\u001b[49m\n\u001b[0;32m    369\u001b[0m \u001b[38;5;28;01mreturn\u001b[39;00m response_proto\u001b[38;5;241m.\u001b[39martifact_uri\n",
      "File \u001b[1;32mc:\\Users\\adity\\.conda\\envs\\genai\\lib\\site-packages\\mlflow\\store\\model_registry\\base_rest_store.py:42\u001b[0m, in \u001b[0;36mBaseRestStore._call_endpoint\u001b[1;34m(self, api, json_body, call_all_endpoints, extra_headers)\u001b[0m\n\u001b[0;32m     40\u001b[0m \u001b[38;5;28;01melse\u001b[39;00m:\n\u001b[0;32m     41\u001b[0m     endpoint, method \u001b[38;5;241m=\u001b[39m \u001b[38;5;28mself\u001b[39m\u001b[38;5;241m.\u001b[39m_get_endpoint_from_method(api)\n\u001b[1;32m---> 42\u001b[0m     \u001b[38;5;28;01mreturn\u001b[39;00m \u001b[43mcall_endpoint\u001b[49m\u001b[43m(\u001b[49m\n\u001b[0;32m     43\u001b[0m \u001b[43m        \u001b[49m\u001b[38;5;28;43mself\u001b[39;49m\u001b[38;5;241;43m.\u001b[39;49m\u001b[43mget_host_creds\u001b[49m\u001b[43m(\u001b[49m\u001b[43m)\u001b[49m\u001b[43m,\u001b[49m\u001b[43m \u001b[49m\u001b[43mendpoint\u001b[49m\u001b[43m,\u001b[49m\u001b[43m \u001b[49m\u001b[43mmethod\u001b[49m\u001b[43m,\u001b[49m\u001b[43m \u001b[49m\u001b[43mjson_body\u001b[49m\u001b[43m,\u001b[49m\u001b[43m \u001b[49m\u001b[43mresponse_proto\u001b[49m\u001b[43m,\u001b[49m\u001b[43m \u001b[49m\u001b[43mextra_headers\u001b[49m\n\u001b[0;32m     44\u001b[0m \u001b[43m    \u001b[49m\u001b[43m)\u001b[49m\n",
      "File \u001b[1;32mc:\\Users\\adity\\.conda\\envs\\genai\\lib\\site-packages\\mlflow\\utils\\rest_utils.py:590\u001b[0m, in \u001b[0;36mcall_endpoint\u001b[1;34m(host_creds, endpoint, method, json_body, response_proto, extra_headers, retry_timeout_seconds)\u001b[0m\n\u001b[0;32m    587\u001b[0m     call_kwargs[\u001b[38;5;124m\"\u001b[39m\u001b[38;5;124mjson\u001b[39m\u001b[38;5;124m\"\u001b[39m] \u001b[38;5;241m=\u001b[39m json_body\n\u001b[0;32m    588\u001b[0m     response \u001b[38;5;241m=\u001b[39m http_request(\u001b[38;5;241m*\u001b[39m\u001b[38;5;241m*\u001b[39mcall_kwargs)\n\u001b[1;32m--> 590\u001b[0m response \u001b[38;5;241m=\u001b[39m \u001b[43mverify_rest_response\u001b[49m\u001b[43m(\u001b[49m\u001b[43mresponse\u001b[49m\u001b[43m,\u001b[49m\u001b[43m \u001b[49m\u001b[43mendpoint\u001b[49m\u001b[43m)\u001b[49m\n\u001b[0;32m    591\u001b[0m response_to_parse \u001b[38;5;241m=\u001b[39m response\u001b[38;5;241m.\u001b[39mtext\n\u001b[0;32m    592\u001b[0m \u001b[38;5;28;01mtry\u001b[39;00m:\n",
      "File \u001b[1;32mc:\\Users\\adity\\.conda\\envs\\genai\\lib\\site-packages\\mlflow\\utils\\rest_utils.py:304\u001b[0m, in \u001b[0;36mverify_rest_response\u001b[1;34m(response, endpoint)\u001b[0m\n\u001b[0;32m    302\u001b[0m \u001b[38;5;28;01mif\u001b[39;00m response\u001b[38;5;241m.\u001b[39mstatus_code \u001b[38;5;241m!=\u001b[39m \u001b[38;5;241m200\u001b[39m:\n\u001b[0;32m    303\u001b[0m     \u001b[38;5;28;01mif\u001b[39;00m _can_parse_as_json_object(response\u001b[38;5;241m.\u001b[39mtext):\n\u001b[1;32m--> 304\u001b[0m         \u001b[38;5;28;01mraise\u001b[39;00m RestException(json\u001b[38;5;241m.\u001b[39mloads(response\u001b[38;5;241m.\u001b[39mtext))\n\u001b[0;32m    305\u001b[0m     \u001b[38;5;28;01melse\u001b[39;00m:\n\u001b[0;32m    306\u001b[0m         base_msg \u001b[38;5;241m=\u001b[39m (\n\u001b[0;32m    307\u001b[0m             \u001b[38;5;124mf\u001b[39m\u001b[38;5;124m\"\u001b[39m\u001b[38;5;124mAPI request to endpoint \u001b[39m\u001b[38;5;132;01m{\u001b[39;00mendpoint\u001b[38;5;132;01m}\u001b[39;00m\u001b[38;5;124m \u001b[39m\u001b[38;5;124m\"\u001b[39m\n\u001b[0;32m    308\u001b[0m             \u001b[38;5;124mf\u001b[39m\u001b[38;5;124m\"\u001b[39m\u001b[38;5;124mfailed with error code \u001b[39m\u001b[38;5;132;01m{\u001b[39;00mresponse\u001b[38;5;241m.\u001b[39mstatus_code\u001b[38;5;132;01m}\u001b[39;00m\u001b[38;5;124m != 200\u001b[39m\u001b[38;5;124m\"\u001b[39m\n\u001b[0;32m    309\u001b[0m         )\n",
      "\u001b[1;31mRestException\u001b[0m: RESOURCE_DOES_NOT_EXIST: Model Version (name=xgboost, version=1) not found"
     ]
    }
   ],
   "source": [
    "# Load registered model from MLflow Model Registry\n",
    "import mlflow\n",
    "\n",
    "# Set tracking URI\n",
    "mlflow.set_tracking_uri(\"http://127.0.0.1:5000/\")\n",
    "\n",
    "# Method 1: Load model using the correct registered model name\n",
    "try:\n",
    "    model_name = \"xgboost_classifier\"  # This should match the registered model name\n",
    "    model_version = 1\n",
    "    model_uri = f\"models:/{model_name}/{model_version}\"\n",
    "    \n",
    "    print(f\"Loading model from: {model_uri}\")\n",
    "    loaded_model = mlflow.xgboost.load_model(model_uri=model_uri)\n",
    "    \n",
    "    # Make predictions\n",
    "    y_pred_loaded = loaded_model.predict(x_test)\n",
    "    print(f\"Predictions from loaded model: {y_pred_loaded[:4]}\")\n",
    "    \n",
    "    # Evaluate the loaded model\n",
    "    accuracy = accuracy_score(y_test, y_pred_loaded)\n",
    "    print(f\"Loaded model accuracy: {accuracy:.4f}\")\n",
    "    \n",
    "except Exception as e:\n",
    "    print(f\"Error loading model: {e}\")\n",
    "    print(\"\\nLet's check what models are available in the registry...\")\n",
    "    \n",
    "    # List all registered models\n",
    "    client = mlflow.MlflowClient()\n",
    "    registered_models = client.search_registered_models()\n",
    "    \n",
    "    if registered_models:\n",
    "        print(\"Available registered models:\")\n",
    "        for model in registered_models:\n",
    "            print(f\"- Model name: {model.name}\")\n",
    "            for version in model.latest_versions:\n",
    "                print(f\"  Version: {version.version}, Stage: {version.current_stage}\")\n",
    "    else:\n",
    "        print(\"No registered models found. Please register a model first.\")\n",
    "        \n",
    "        # Alternative: Load from latest run directly\n",
    "        print(\"\\nTrying to load from latest run instead...\")\n",
    "        try:\n",
    "            experiment = mlflow.get_experiment_by_name(\"comprehensive_ml_experiment\")\n",
    "            runs = mlflow.search_runs(\n",
    "                experiment_ids=[experiment.experiment_id],\n",
    "                filter_string=\"tags.mlflow.runName = 'xgboost_run'\",\n",
    "                order_by=[\"start_time DESC\"],\n",
    "                max_results=1\n",
    "            )\n",
    "            \n",
    "            if len(runs) > 0:\n",
    "                run_id = runs.iloc[0]['run_id']\n",
    "                model_uri = f\"runs:/{run_id}/model\"\n",
    "                print(f\"Loading from run: {model_uri}\")\n",
    "                \n",
    "                loaded_model = mlflow.xgboost.load_model(model_uri=model_uri)\n",
    "                y_pred_loaded = loaded_model.predict(x_test)\n",
    "                \n",
    "                print(f\"Predictions from run model: {y_pred_loaded[:4]}\")\n",
    "                accuracy = accuracy_score(y_test, y_pred_loaded)\n",
    "                print(f\"Run model accuracy: {accuracy:.4f}\")\n",
    "                \n",
    "        except Exception as run_error:\n",
    "            print(f\"Error loading from run: {run_error}\")\n"
   ]
  },
  {
   "cell_type": "code",
   "execution_count": null,
   "id": "f21058e7",
   "metadata": {},
   "outputs": [],
   "source": [
    "# Helper: Check and manage registered models\n",
    "def check_registered_models():\n",
    "    \"\"\"Check what models are registered and their versions\"\"\"\n",
    "    mlflow.set_tracking_uri(\"http://127.0.0.1:5000/\")\n",
    "    client = mlflow.MlflowClient()\n",
    "    \n",
    "    try:\n",
    "        registered_models = client.search_registered_models()\n",
    "        \n",
    "        if registered_models:\n",
    "            print(\"📋 Registered Models:\")\n",
    "            print(\"=\" * 50)\n",
    "            for model in registered_models:\n",
    "                print(f\"🔹 Model: {model.name}\")\n",
    "                print(f\"   Description: {model.description or 'No description'}\")\n",
    "                \n",
    "                # Get all versions\n",
    "                versions = client.search_model_versions(f\"name='{model.name}'\")\n",
    "                for version in versions:\n",
    "                    print(f\"   📊 Version {version.version}:\")\n",
    "                    print(f\"      Stage: {version.current_stage}\")\n",
    "                    print(f\"      Run ID: {version.run_id}\")\n",
    "                    print(f\"      Source: {version.source}\")\n",
    "                print(\"-\" * 30)\n",
    "        else:\n",
    "            print(\"❌ No registered models found.\")\n",
    "            print(\"💡 Run the model registration cells first!\")\n",
    "            \n",
    "    except Exception as e:\n",
    "        print(f\"❌ Error checking models: {e}\")\n",
    "\n",
    "def load_best_model():\n",
    "    \"\"\"Load the best performing model from the registry\"\"\"\n",
    "    mlflow.set_tracking_uri(\"http://127.0.0.1:5000/\")\n",
    "    \n",
    "    model_names = [\"logistic_regression_classifier\", \"random_forest_classifier\", \"xgboost_classifier\"]\n",
    "    best_model = None\n",
    "    best_accuracy = 0\n",
    "    best_name = \"\"\n",
    "    \n",
    "    for model_name in model_names:\n",
    "        try:\n",
    "            model_uri = f\"models:/{model_name}/1\"\n",
    "            model = mlflow.pyfunc.load_model(model_uri)\n",
    "            \n",
    "            # Test the model\n",
    "            predictions = model.predict(x_test)\n",
    "            accuracy = accuracy_score(y_test, predictions)\n",
    "            \n",
    "            print(f\"📊 {model_name}: Accuracy = {accuracy:.4f}\")\n",
    "            \n",
    "            if accuracy > best_accuracy:\n",
    "                best_accuracy = accuracy\n",
    "                best_model = model\n",
    "                best_name = model_name\n",
    "                \n",
    "        except Exception as e:\n",
    "            print(f\"❌ Could not load {model_name}: {e}\")\n",
    "    \n",
    "    if best_model:\n",
    "        print(f\"\\n🏆 Best model: {best_name} with accuracy {best_accuracy:.4f}\")\n",
    "        return best_model, best_name\n",
    "    else:\n",
    "        print(\"❌ No models could be loaded\")\n",
    "        return None, None\n",
    "\n",
    "# Run the checks\n",
    "print(\"Checking registered models...\")\n",
    "check_registered_models()\n",
    "\n",
    "print(\"\\n\" + \"=\"*60)\n",
    "print(\"Finding best model...\")\n",
    "best_model, best_name = load_best_model()"
   ]
  }
 ],
 "metadata": {
  "kernelspec": {
   "display_name": "genai",
   "language": "python",
   "name": "python3"
  },
  "language_info": {
   "codemirror_mode": {
    "name": "ipython",
    "version": 3
   },
   "file_extension": ".py",
   "mimetype": "text/x-python",
   "name": "python",
   "nbconvert_exporter": "python",
   "pygments_lexer": "ipython3",
   "version": "3.10.16"
  }
 },
 "nbformat": 4,
 "nbformat_minor": 5
}
